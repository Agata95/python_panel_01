{
 "cells": [
  {
   "cell_type": "markdown",
   "metadata": {},
   "source": [
    "### Numbers\n",
    "\n",
    "### Podstawowe działania\n",
    "\n",
    "Istnieje dedykowany operator potęgowania\n",
    "\n",
    "liczba `**` potęga"
   ]
  },
  {
   "cell_type": "code",
   "execution_count": null,
   "metadata": {},
   "outputs": [],
   "source": [
    "b = 2\n",
    "druga_potega = b ** 2\n",
    "czwarta_potega = b ** 4\n",
    "print(druga_potega, czwarta_potega)"
   ]
  },
  {
   "cell_type": "markdown",
   "metadata": {},
   "source": [
    "Dzielenia można dokonać na kilka sposobów\n",
    "\n",
    "Zwykłe, `/`, otrzymujemy liczbę zmiennoprzecinkową, nawet jeżeli liczby całkowite podzielą się bez reszty"
   ]
  },
  {
   "cell_type": "code",
   "execution_count": null,
   "metadata": {},
   "outputs": [],
   "source": [
    "print(10 / 2)"
   ]
  },
  {
   "cell_type": "markdown",
   "metadata": {},
   "source": [
    "Zwracające część całkowitą `//`\n",
    "\n",
    "Dla dwóch liczb całkowitych wynikiem jest liczba całkowita, reszta z dzielenia jest pominięta"
   ]
  },
  {
   "cell_type": "code",
   "execution_count": null,
   "metadata": {},
   "outputs": [],
   "source": [
    "print(10 // 2)\n",
    "print(19 // 10)"
   ]
  },
  {
   "cell_type": "markdown",
   "metadata": {},
   "source": [
    "Operacja modulo `%`, zwracająca resztę z dzielenia"
   ]
  },
  {
   "cell_type": "code",
   "execution_count": null,
   "metadata": {},
   "outputs": [],
   "source": [
    "print(10 % 10)\n",
    "print(19 % 10)"
   ]
  },
  {
   "cell_type": "markdown",
   "metadata": {},
   "source": [
    "### Typ Float\n",
    "\n",
    "Operacje mieszające liczby całkowite i zmiennoprzecinkowe wykonuja się bez problemu"
   ]
  },
  {
   "cell_type": "code",
   "execution_count": null,
   "metadata": {},
   "outputs": [],
   "source": [
    "print(15 + 1.5)\n",
    "print(25.5 / 2)"
   ]
  },
  {
   "cell_type": "markdown",
   "metadata": {},
   "source": [
    "Trzeba tylko pamiętać, że float jest \"zaraźliwy\"!\n",
    "\n",
    "Jeżeli mamy działanie z float, wynik też będzie typu float"
   ]
  },
  {
   "cell_type": "code",
   "execution_count": null,
   "metadata": {},
   "outputs": [],
   "source": [
    "print(type(10))\n",
    "print(type(1.0))\n",
    "print(10 + 1.0)\n",
    "print(type(10 + 1.0))"
   ]
  },
  {
   "cell_type": "markdown",
   "metadata": {},
   "source": [
    "Nawet w przypadku dzielenia z pominięciem reszty!\n",
    "\n",
    "Zwracam część całkowitą (co do wartości), ale w typie float!"
   ]
  },
  {
   "cell_type": "code",
   "execution_count": null,
   "metadata": {},
   "outputs": [],
   "source": [
    "print(19.0 // 10)\n",
    "print(19 // 10.0)"
   ]
  },
  {
   "cell_type": "markdown",
   "metadata": {},
   "source": [
    "Podobnie z modulo!"
   ]
  },
  {
   "cell_type": "code",
   "execution_count": null,
   "metadata": {},
   "outputs": [],
   "source": [
    "print(19.0 % 10)\n",
    "print(19 % 10.0)"
   ]
  }
 ],
 "metadata": {
  "interpreter": {
   "hash": "78e3fd7fe47c7ba2e971e2515db0e0ea8742d6146cef61a68801db36879b6963"
  },
  "kernelspec": {
   "display_name": "Python 3.7.6 64-bit ('base': conda)",
   "name": "python3"
  },
  "language_info": {
   "codemirror_mode": {
    "name": "ipython",
    "version": 3
   },
   "file_extension": ".py",
   "mimetype": "text/x-python",
   "name": "python",
   "nbconvert_exporter": "python",
   "pygments_lexer": "ipython3",
   "version": "3.7.6"
  }
 },
 "nbformat": 4,
 "nbformat_minor": 4
}
