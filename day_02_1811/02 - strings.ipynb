{
 "cells": [
  {
   "cell_type": "markdown",
   "metadata": {},
   "source": [
    "### Typ string\n",
    "\n",
    "Typ string również korzysta z operatorów matematycznych"
   ]
  },
  {
   "cell_type": "code",
   "execution_count": null,
   "metadata": {},
   "outputs": [],
   "source": [
    "imie = \"Piotr\"\n",
    "nazwisko = \"Klinke\"\n",
    "\n",
    "pelne = imie + nazwisko\n",
    "print(pelne)\n",
    "\n",
    "pelne = imie + \" \" + nazwisko\n",
    "print(pelne)"
   ]
  },
  {
   "cell_type": "markdown",
   "metadata": {},
   "source": [
    "Również z innymi typami"
   ]
  },
  {
   "cell_type": "code",
   "execution_count": null,
   "metadata": {},
   "outputs": [],
   "source": [
    "print(imie * 3)\n",
    "print(\"#\" * 10)"
   ]
  },
  {
   "cell_type": "markdown",
   "metadata": {},
   "source": [
    "Ale nie wszystko działa!"
   ]
  },
  {
   "cell_type": "code",
   "execution_count": null,
   "metadata": {},
   "outputs": [],
   "source": [
    "print(imie + 3)\n",
    "print(imie * \"test\")"
   ]
  },
  {
   "cell_type": "markdown",
   "metadata": {},
   "source": [
    "#### Indeksowanie i slicing\n",
    "\n",
    "String jest tablicą elementów - znaków. Możemy się dostawać do nich bezpośrednio poprzez indeks.\n",
    "\n",
    "Numeracje są dwie:\n",
    "\n",
    "Od pierwszego znaku w przód: 0, 1, 2, ..., (dlugość - 1)\n",
    "\n",
    "Od ostatniego znaku w tył: -1, -2, -3, ..., (-dlugość)\n",
    "\n",
    "\"kot\"\n",
    "\n",
    "k -> 0 -> -3\n",
    "\n",
    "o -> 1 -> -2\n",
    "\n",
    "t -> 2 -> -1"
   ]
  },
  {
   "cell_type": "code",
   "execution_count": null,
   "metadata": {},
   "outputs": [],
   "source": [
    "print(nazwisko[0])\n",
    "print(nazwisko[1])\n",
    "print(nazwisko[-1])"
   ]
  },
  {
   "cell_type": "markdown",
   "metadata": {},
   "source": [
    "Długość otrzymujemy funkcją len()"
   ]
  },
  {
   "cell_type": "code",
   "execution_count": null,
   "metadata": {},
   "outputs": [],
   "source": [
    "print(len(nazwisko))\n",
    "dlugosc = len(nazwisko)\n",
    "print(nazwisko[dlugosc-1])\n",
    "print(nazwisko[-1])"
   ]
  },
  {
   "cell_type": "markdown",
   "metadata": {},
   "source": [
    "String wspiera również zakres - możemy otrzymać fragment (robić slicing)\n",
    "\n",
    "Zakres który podajemy jest domknięty z lewej strony, a otwarty z prawej. Tzn. pierwsza wartość zostanie uwzględniona, a druga nie."
   ]
  },
  {
   "cell_type": "code",
   "execution_count": null,
   "metadata": {},
   "outputs": [],
   "source": [
    "print(nazwisko[0:2])  # zakres 0:2 zwróci indeksy 0 i 1 (2 już nie)\n",
    "print(nazwisko[3:6])  # zakres 3:6 zwróci indeksy 3, 4, 5 (6 już nie)"
   ]
  },
  {
   "cell_type": "markdown",
   "metadata": {},
   "source": [
    "Numeracje dodatnią i ujemną można mieszać. Ważne tylko, żeby najpierw był wcześniejszy, a potem późniejszy element."
   ]
  },
  {
   "cell_type": "code",
   "execution_count": null,
   "metadata": {},
   "outputs": [],
   "source": [
    "print(nazwisko[0:-2])\n",
    "print(nazwisko[-2:6])  # Nie zadziała tak jak możemy chcieć\n",
    "print(nazwisko[6:2])  # Nie zadziała tak jak możemy chcieć\n",
    "print(nazwisko[-8:6])"
   ]
  },
  {
   "cell_type": "markdown",
   "metadata": {},
   "source": [
    "Slicing polega na podaniu zakresu:\n",
    "\n",
    "start `:` koniec `:` krok\n",
    "\n",
    "wszystkie trzy parametry są opcjonalne."
   ]
  },
  {
   "cell_type": "code",
   "execution_count": null,
   "metadata": {},
   "outputs": [],
   "source": [
    "print(nazwisko[:])  # Coś muszę wpisać w nawias kwadratowy - przynajmniej \":\" - Cała wartość"
   ]
  },
  {
   "cell_type": "code",
   "execution_count": null,
   "metadata": {},
   "outputs": [],
   "source": [
    "print(nazwisko[:4])  # Pierwsze 4 znaki - indeksy 0, 1, 2, 3"
   ]
  },
  {
   "cell_type": "code",
   "execution_count": null,
   "metadata": {},
   "outputs": [],
   "source": [
    "print(nazwisko[4:])  # Od indeksu 4 (czyli piątego znaku) do końca"
   ]
  },
  {
   "cell_type": "code",
   "execution_count": null,
   "metadata": {},
   "outputs": [],
   "source": [
    "print(nazwisko[::-1])  # Całość, ale z krokiem -1 - tzn. całość od tyłu!"
   ]
  },
  {
   "cell_type": "code",
   "execution_count": null,
   "metadata": {},
   "outputs": [],
   "source": [
    "print(nazwisko[3::-1])  # Od indeksu 3 (czyli czwartego znaku) do tyłu"
   ]
  },
  {
   "cell_type": "markdown",
   "metadata": {},
   "source": [
    "Fragment mogę oczywiście przypisać do zmiennej - jest to po prostu string"
   ]
  },
  {
   "cell_type": "code",
   "execution_count": null,
   "metadata": {},
   "outputs": [],
   "source": [
    "fragment = nazwisko[6:2:-1]\n",
    "print(fragment, type(fragment))"
   ]
  },
  {
   "cell_type": "markdown",
   "metadata": {},
   "source": [
    "#### Znaki specjalne i znak ucieczki `\\`"
   ]
  },
  {
   "cell_type": "markdown",
   "metadata": {},
   "source": [
    "Stringa otwieramy cudzysłowiem albo apostrofem.\n",
    "\n",
    "A co jeżeli chcemy, żeby cudzysłów był częścią stringa?"
   ]
  },
  {
   "cell_type": "code",
   "execution_count": null,
   "metadata": {},
   "outputs": [],
   "source": [
    "print(\"Być albo nie być\")"
   ]
  },
  {
   "cell_type": "code",
   "execution_count": null,
   "metadata": {},
   "outputs": [],
   "source": [
    "print(\"\"Być albo nie być\"\")"
   ]
  },
  {
   "cell_type": "markdown",
   "metadata": {},
   "source": [
    "Używamy znaku ucieczki `\\` - znak po `\\` będzie potraktowany inaczej niż zwykle.\n",
    "\n",
    "Np. cudzysłów lub apostrof nie domkną stringa, ale zostaną uznane za część tekstu."
   ]
  },
  {
   "cell_type": "code",
   "execution_count": null,
   "metadata": {},
   "outputs": [],
   "source": [
    "print(\"\\\"It's my life!\\\"\")\n",
    "print('\"It\\'s my life!\"')"
   ]
  },
  {
   "cell_type": "markdown",
   "metadata": {},
   "source": [
    "Działa to również dla samego `\\` - np. w ścieżkach plików i folderów"
   ]
  },
  {
   "cell_type": "code",
   "execution_count": null,
   "metadata": {},
   "outputs": [],
   "source": [
    "print(\"Users\\new\")"
   ]
  },
  {
   "cell_type": "code",
   "execution_count": null,
   "metadata": {},
   "outputs": [],
   "source": [
    "print(\"c:\\Users\\new\")"
   ]
  },
  {
   "cell_type": "markdown",
   "metadata": {},
   "source": [
    "Wykorzystujemy `\\`, żeby oznaczyć, że kolejny `\\` ma byż tylko wyświetlony"
   ]
  },
  {
   "cell_type": "code",
   "execution_count": null,
   "metadata": {},
   "outputs": [],
   "source": [
    "print(\"C:\\\\Users\\\\new\")"
   ]
  },
  {
   "cell_type": "markdown",
   "metadata": {},
   "source": [
    "### Formatowanie z wykorzystaniem .format() i nie tylko\n",
    "\n",
    "Metoda `format` pozwala na wpisanie wartości zmiennych bezpośrednio w stringa.\n",
    "\n",
    "Klamry oznaczają gdzie wejdą kolejne zmienne."
   ]
  },
  {
   "cell_type": "code",
   "execution_count": null,
   "metadata": {},
   "outputs": [],
   "source": [
    "liczba_liter = len(nazwisko)\n",
    "zdanie = \"Nazwisko {} ma {} liter.\".format(nazwisko, liczba_liter)\n",
    "print(zdanie)"
   ]
  },
  {
   "cell_type": "markdown",
   "metadata": {},
   "source": [
    "Możemy również wprost określić w które miejsce która zmienna ma zostać wstawiona."
   ]
  },
  {
   "cell_type": "code",
   "execution_count": null,
   "metadata": {},
   "outputs": [],
   "source": [
    "print(\"Liter {1} ma nazwisko {0} - {1}!\".format(nazwisko, liczba_liter))"
   ]
  },
  {
   "cell_type": "markdown",
   "metadata": {},
   "source": [
    "W nowym pythonie (3.6+) możemy również użyć nazw zmiennych wprost i stringa formatowanego `f\"\"`"
   ]
  },
  {
   "cell_type": "code",
   "execution_count": null,
   "metadata": {},
   "outputs": [],
   "source": [
    "print(f\"Nazwisko to {nazwisko} i ma {liczba_liter} liter\")"
   ]
  },
  {
   "cell_type": "markdown",
   "metadata": {},
   "source": [
    "Metoda format działa na stringu. Minimum tego co potrzebujemy to string z samymi klamrami"
   ]
  },
  {
   "cell_type": "code",
   "execution_count": null,
   "metadata": {},
   "outputs": [],
   "source": [
    "ulamek = 2 / 3\n",
    "do_pokazania = \"{}\".format(ulamek)\n",
    "print(do_pokazania)"
   ]
  },
  {
   "cell_type": "markdown",
   "metadata": {},
   "source": [
    "W klamrach możemy określać specjalne formatowanie dla wartości\n",
    "\n",
    "Opcji jest wiele,\n",
    "\n",
    "https://docs.python.org/3/library/string.html#formatstrings\n",
    "\n",
    "np.:\n",
    "\n",
    "`\"{:.2f}\"` - `\":.\"` Określ precyzję po przecinku; `\"2\"` dwa miejsca po przecinku; `\"f\"` formatuj jako float\n",
    "\n",
    "`\"{:.1%}\"` - `\":.\"` Określ precyzję po przecinku; `\"1\"` jedno miejsce po przecinku; `\"%\"` formatuj jako procenty"
   ]
  },
  {
   "cell_type": "code",
   "execution_count": null,
   "metadata": {},
   "outputs": [],
   "source": [
    "print(\"Twoja część to {:.2f}\".format(ulamek))\n",
    "print(\"Twoja część to {:.1%}\".format(ulamek))"
   ]
  },
  {
   "cell_type": "markdown",
   "metadata": {},
   "source": [
    "`\"{:02}\"` - `\":0\"` Dopełnij zerami; `\"2\"` do dwóch miejsc"
   ]
  },
  {
   "cell_type": "code",
   "execution_count": null,
   "metadata": {},
   "outputs": [],
   "source": [
    "zlotowki = 50\n",
    "grosze = 3\n",
    "print(\"Do zapłaty: {},{:02} zł\".format(zlotowki, grosze))"
   ]
  },
  {
   "cell_type": "markdown",
   "metadata": {},
   "source": [
    "### Inne metody wbudowane\n",
    "\n",
    "Typ string (`str`) zawiera wiele przydatnych metod wbudowanych. Metody te działają na stringu od którego je wywołujemy i zwracają nowy string.\n",
    "\n",
    "Nie modyfikują tego co jest!\n",
    "\n",
    "https://docs.python.org/3/library/stdtypes.html#string-methods\n",
    "\n",
    "Nie chodzi o bibliotekę string, ale o wbudowane metody typu `str`"
   ]
  },
  {
   "cell_type": "code",
   "execution_count": null,
   "metadata": {},
   "outputs": [],
   "source": [
    "wstep = \"Moje nazwisko to \" + nazwisko\n",
    "print(wstep)"
   ]
  },
  {
   "cell_type": "code",
   "execution_count": null,
   "metadata": {},
   "outputs": [],
   "source": [
    "wstep = \"Moje nazwisko to \" + nazwisko.capitalize()\n",
    "print(wstep)"
   ]
  },
  {
   "cell_type": "code",
   "execution_count": null,
   "metadata": {},
   "outputs": [],
   "source": [
    "glosny_wstep = \"Moje nazwisko to \" + nazwisko.upper()\n",
    "print(glosny_wstep)"
   ]
  },
  {
   "cell_type": "code",
   "execution_count": null,
   "metadata": {},
   "outputs": [],
   "source": [
    "oszust = \"HaKeRMacIEk\"\n",
    "print(oszust.lower())"
   ]
  },
  {
   "cell_type": "code",
   "execution_count": null,
   "metadata": {},
   "outputs": [],
   "source": []
  }
 ],
 "metadata": {
  "kernelspec": {
   "display_name": "Python 3.9.1 64-bit",
   "language": "python",
   "name": "python3"
  },
  "language_info": {
   "codemirror_mode": {
    "name": "ipython",
    "version": 3
   },
   "file_extension": ".py",
   "mimetype": "text/x-python",
   "name": "python",
   "nbconvert_exporter": "python",
   "pygments_lexer": "ipython3",
   "version": "3.9.1"
  },
  "vscode": {
   "interpreter": {
    "hash": "81794d4967e6c3204c66dcd87b604927b115b27c00565d3d43f05ba2f3a2cb0d"
   }
  }
 },
 "nbformat": 4,
 "nbformat_minor": 4
}
