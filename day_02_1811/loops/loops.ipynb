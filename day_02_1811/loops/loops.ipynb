{
 "cells": [
  {
   "cell_type": "markdown",
   "metadata": {},
   "source": [
    "#### Zadanie 1 - while\n",
    "\n",
    "Wyliczaj i wypisuj kolejne potęgi liczby 2 (od pierwszej)\n",
    "\n",
    "Przerwij, gdy wyliczona wartość jest większa niż 3000 (nie wypisuj jej już)\n",
    "\n",
    "Zrób to na dwa sposoby: (a) bez break, (b) z break"
   ]
  },
  {
   "cell_type": "code",
   "execution_count": null,
   "metadata": {},
   "outputs": [],
   "source": []
  },
  {
   "cell_type": "markdown",
   "metadata": {},
   "source": [
    "#### Zadanie 2 - while\n",
    "\n",
    "Pobieraj w kółko tekst od użytkownika\n",
    "\n",
    "Wypisz to co wpisał, ale wielkimi literami\n",
    "\n",
    "Przerwij, gdy wpisze \"quit\" lub \"q\"\n",
    "\n",
    "Zrób to na dwa sposoby: (a) bez break, (b) z break"
   ]
  },
  {
   "cell_type": "code",
   "execution_count": null,
   "metadata": {},
   "outputs": [],
   "source": []
  },
  {
   "cell_type": "markdown",
   "metadata": {},
   "source": [
    "#### Zadanie 3 - for\n",
    "\n",
    "Przejdź przez zmienną `tekst` znak po znaku\n",
    "\n",
    "Za każdym razem gdy natrafisz na spację, wypisz \"Spacja!\""
   ]
  },
  {
   "cell_type": "code",
   "execution_count": null,
   "metadata": {},
   "outputs": [],
   "source": [
    "tekst = \"Lorem ipsum dolor sit amet, consectetur adipiscing elit.\""
   ]
  },
  {
   "cell_type": "markdown",
   "metadata": {},
   "source": [
    "#### Zadanie 4 - for\n",
    "\n",
    "Dla liczb z zakresu od 1 do 15 (włącznie)\n",
    "\n",
    "Wypisz ich wartość do drugiej potęgi"
   ]
  },
  {
   "cell_type": "code",
   "execution_count": null,
   "metadata": {},
   "outputs": [],
   "source": []
  }
 ],
 "metadata": {
  "kernelspec": {
   "display_name": "Python 3",
   "language": "python",
   "name": "python3"
  },
  "language_info": {
   "codemirror_mode": {
    "name": "ipython",
    "version": 3
   },
   "file_extension": ".py",
   "mimetype": "text/x-python",
   "name": "python",
   "nbconvert_exporter": "python",
   "pygments_lexer": "ipython3",
   "version": "3.7.6"
  }
 },
 "nbformat": 4,
 "nbformat_minor": 4
}