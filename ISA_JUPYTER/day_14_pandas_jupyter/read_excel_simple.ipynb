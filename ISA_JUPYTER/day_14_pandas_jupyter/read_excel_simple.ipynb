{
 "cells": [
  {
   "cell_type": "markdown",
   "id": "2ab349fc",
   "metadata": {},
   "source": [
    "# Przykładowe użycie read_excel\n",
    "\n",
    "## Dane o obsłudze pasażerów Modlin i Gdańsk\n",
    "\n",
    "### Lata 2010-2021"
   ]
  },
  {
   "cell_type": "code",
   "execution_count": 1,
   "id": "e898bce2",
   "metadata": {},
   "outputs": [],
   "source": [
    "import pandas as pd"
   ]
  },
  {
   "cell_type": "code",
   "execution_count": 2,
   "id": "7672b169",
   "metadata": {
    "scrolled": true
   },
   "outputs": [],
   "source": [
    "# wczytywanie kilku arkuszy na raz\n",
    "df_test = pd.read_excel(\"lotniska.xlsx\", sheet_name=['lotniska', 'sheet2'])"
   ]
  },
  {
   "cell_type": "code",
   "execution_count": 3,
   "id": "40244b13",
   "metadata": {},
   "outputs": [
    {
     "data": {
      "text/plain": [
       "{'lotniska':      rok    chopin   modlin   gdansk\n",
       " 0   2010   8666552        0  2208819\n",
       " 1   2011   9322485        0  2449702\n",
       " 2   2012   9567063   857481  2861774\n",
       " 3   2013  10669879   344566  2826412\n",
       " 4   2014  10574539  1703743  3238064\n",
       " 5   2015  11186688  2589286  3687885\n",
       " 6   2016  12795356  2859191  3986410\n",
       " 7   2017  15730330  2931503  4601982\n",
       " 8   2018  17737231  3080699  4966949\n",
       " 9   2019  18844591  3104277  5361134\n",
       " 10  2020   5473224   870831  1697406\n",
       " 11  2021   7445468  1455315  2140522,\n",
       " 'sheet2':          a     b       c\n",
       " 0  4t78213  fy79  cy8d9s}"
      ]
     },
     "execution_count": 3,
     "metadata": {},
     "output_type": "execute_result"
    }
   ],
   "source": [
    "df_test"
   ]
  }
 ],
 "metadata": {
  "kernelspec": {
   "display_name": "Python 3 (ipykernel)",
   "language": "python",
   "name": "python3"
  },
  "language_info": {
   "codemirror_mode": {
    "name": "ipython",
    "version": 3
   },
   "file_extension": ".py",
   "mimetype": "text/x-python",
   "name": "python",
   "nbconvert_exporter": "python",
   "pygments_lexer": "ipython3",
   "version": "3.9.13"
  }
 },
 "nbformat": 4,
 "nbformat_minor": 5
}
