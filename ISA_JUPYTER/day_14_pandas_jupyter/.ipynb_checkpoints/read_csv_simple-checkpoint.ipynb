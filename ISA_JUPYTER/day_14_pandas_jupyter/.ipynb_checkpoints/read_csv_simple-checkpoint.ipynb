{
 "cells": [
  {
   "cell_type": "markdown",
   "id": "23d8672f",
   "metadata": {},
   "source": [
    "# Przykładowe użycie read_csv\n",
    "\n",
    "## Dane o obsłudze pasażerów Modlin i Gdańsk\n",
    "\n",
    "### Lata 2010-2021"
   ]
  },
  {
   "cell_type": "code",
   "execution_count": 8,
   "id": "cf9a95e2",
   "metadata": {},
   "outputs": [],
   "source": [
    "import pandas as pd"
   ]
  },
  {
   "cell_type": "code",
   "execution_count": 2,
   "id": "4dc9f8b0",
   "metadata": {},
   "outputs": [],
   "source": [
    "df_lotniska = pd.read_csv(\"lotniska.csv\", sep=\";\")"
   ]
  },
  {
   "cell_type": "code",
   "execution_count": 3,
   "id": "c9f6052e",
   "metadata": {
    "scrolled": true
   },
   "outputs": [
    {
     "data": {
      "text/html": [
       "<div>\n",
       "<style scoped>\n",
       "    .dataframe tbody tr th:only-of-type {\n",
       "        vertical-align: middle;\n",
       "    }\n",
       "\n",
       "    .dataframe tbody tr th {\n",
       "        vertical-align: top;\n",
       "    }\n",
       "\n",
       "    .dataframe thead th {\n",
       "        text-align: right;\n",
       "    }\n",
       "</style>\n",
       "<table border=\"1\" class=\"dataframe\">\n",
       "  <thead>\n",
       "    <tr style=\"text-align: right;\">\n",
       "      <th></th>\n",
       "      <th>rok</th>\n",
       "      <th>chopin</th>\n",
       "      <th>modlin</th>\n",
       "      <th>gdansk</th>\n",
       "    </tr>\n",
       "  </thead>\n",
       "  <tbody>\n",
       "    <tr>\n",
       "      <th>0</th>\n",
       "      <td>2010</td>\n",
       "      <td>8666552</td>\n",
       "      <td>872635</td>\n",
       "      <td>2208819</td>\n",
       "    </tr>\n",
       "    <tr>\n",
       "      <th>1</th>\n",
       "      <td>2011</td>\n",
       "      <td>9322485</td>\n",
       "      <td>679823</td>\n",
       "      <td>2449702</td>\n",
       "    </tr>\n",
       "    <tr>\n",
       "      <th>2</th>\n",
       "      <td>2012</td>\n",
       "      <td>9567063</td>\n",
       "      <td>857481</td>\n",
       "      <td>2861774</td>\n",
       "    </tr>\n",
       "    <tr>\n",
       "      <th>3</th>\n",
       "      <td>2013</td>\n",
       "      <td>10669879</td>\n",
       "      <td>344566</td>\n",
       "      <td>2826412</td>\n",
       "    </tr>\n",
       "    <tr>\n",
       "      <th>4</th>\n",
       "      <td>2014</td>\n",
       "      <td>10574539</td>\n",
       "      <td>1703743</td>\n",
       "      <td>3238064</td>\n",
       "    </tr>\n",
       "    <tr>\n",
       "      <th>5</th>\n",
       "      <td>2015</td>\n",
       "      <td>11186688</td>\n",
       "      <td>2589286</td>\n",
       "      <td>3687885</td>\n",
       "    </tr>\n",
       "    <tr>\n",
       "      <th>6</th>\n",
       "      <td>2016</td>\n",
       "      <td>12795356</td>\n",
       "      <td>2859191</td>\n",
       "      <td>3986410</td>\n",
       "    </tr>\n",
       "    <tr>\n",
       "      <th>7</th>\n",
       "      <td>2017</td>\n",
       "      <td>15730330</td>\n",
       "      <td>2931503</td>\n",
       "      <td>4601982</td>\n",
       "    </tr>\n",
       "    <tr>\n",
       "      <th>8</th>\n",
       "      <td>2018</td>\n",
       "      <td>17737231</td>\n",
       "      <td>3080699</td>\n",
       "      <td>4966949</td>\n",
       "    </tr>\n",
       "    <tr>\n",
       "      <th>9</th>\n",
       "      <td>2019</td>\n",
       "      <td>18844591</td>\n",
       "      <td>3104277</td>\n",
       "      <td>5361134</td>\n",
       "    </tr>\n",
       "    <tr>\n",
       "      <th>10</th>\n",
       "      <td>2020</td>\n",
       "      <td>5473224</td>\n",
       "      <td>870831</td>\n",
       "      <td>1697406</td>\n",
       "    </tr>\n",
       "    <tr>\n",
       "      <th>11</th>\n",
       "      <td>2021</td>\n",
       "      <td>7445468</td>\n",
       "      <td>1455315</td>\n",
       "      <td>2140522</td>\n",
       "    </tr>\n",
       "  </tbody>\n",
       "</table>\n",
       "</div>"
      ],
      "text/plain": [
       "     rok    chopin   modlin   gdansk\n",
       "0   2010   8666552   872635  2208819\n",
       "1   2011   9322485   679823  2449702\n",
       "2   2012   9567063   857481  2861774\n",
       "3   2013  10669879   344566  2826412\n",
       "4   2014  10574539  1703743  3238064\n",
       "5   2015  11186688  2589286  3687885\n",
       "6   2016  12795356  2859191  3986410\n",
       "7   2017  15730330  2931503  4601982\n",
       "8   2018  17737231  3080699  4966949\n",
       "9   2019  18844591  3104277  5361134\n",
       "10  2020   5473224   870831  1697406\n",
       "11  2021   7445468  1455315  2140522"
      ]
     },
     "execution_count": 3,
     "metadata": {},
     "output_type": "execute_result"
    }
   ],
   "source": [
    "df_lotniska"
   ]
  },
  {
   "cell_type": "code",
   "execution_count": 4,
   "id": "833ac8d2",
   "metadata": {},
   "outputs": [
    {
     "name": "stdout",
     "output_type": "stream",
     "text": [
      "<class 'pandas.core.frame.DataFrame'>\n",
      "RangeIndex: 12 entries, 0 to 11\n",
      "Data columns (total 4 columns):\n",
      " #   Column  Non-Null Count  Dtype\n",
      "---  ------  --------------  -----\n",
      " 0   rok     12 non-null     int64\n",
      " 1   chopin  12 non-null     int64\n",
      " 2   modlin  12 non-null     int64\n",
      " 3   gdansk  12 non-null     int64\n",
      "dtypes: int64(4)\n",
      "memory usage: 512.0 bytes\n"
     ]
    }
   ],
   "source": [
    "df_lotniska.info()"
   ]
  },
  {
   "cell_type": "code",
   "execution_count": 5,
   "id": "a046902d",
   "metadata": {},
   "outputs": [
    {
     "data": {
      "text/html": [
       "<div>\n",
       "<style scoped>\n",
       "    .dataframe tbody tr th:only-of-type {\n",
       "        vertical-align: middle;\n",
       "    }\n",
       "\n",
       "    .dataframe tbody tr th {\n",
       "        vertical-align: top;\n",
       "    }\n",
       "\n",
       "    .dataframe thead th {\n",
       "        text-align: right;\n",
       "    }\n",
       "</style>\n",
       "<table border=\"1\" class=\"dataframe\">\n",
       "  <thead>\n",
       "    <tr style=\"text-align: right;\">\n",
       "      <th></th>\n",
       "      <th>rok</th>\n",
       "      <th>chopin</th>\n",
       "      <th>modlin</th>\n",
       "      <th>gdansk</th>\n",
       "    </tr>\n",
       "  </thead>\n",
       "  <tbody>\n",
       "    <tr>\n",
       "      <th>count</th>\n",
       "      <td>12.000000</td>\n",
       "      <td>1.200000e+01</td>\n",
       "      <td>1.200000e+01</td>\n",
       "      <td>1.200000e+01</td>\n",
       "    </tr>\n",
       "    <tr>\n",
       "      <th>mean</th>\n",
       "      <td>2015.500000</td>\n",
       "      <td>1.150112e+07</td>\n",
       "      <td>1.779112e+06</td>\n",
       "      <td>3.335588e+06</td>\n",
       "    </tr>\n",
       "    <tr>\n",
       "      <th>std</th>\n",
       "      <td>3.605551</td>\n",
       "      <td>4.082456e+06</td>\n",
       "      <td>1.064899e+06</td>\n",
       "      <td>1.189924e+06</td>\n",
       "    </tr>\n",
       "    <tr>\n",
       "      <th>min</th>\n",
       "      <td>2010.000000</td>\n",
       "      <td>5.473224e+06</td>\n",
       "      <td>3.445660e+05</td>\n",
       "      <td>1.697406e+06</td>\n",
       "    </tr>\n",
       "    <tr>\n",
       "      <th>25%</th>\n",
       "      <td>2012.750000</td>\n",
       "      <td>9.158502e+06</td>\n",
       "      <td>8.674935e+05</td>\n",
       "      <td>2.389481e+06</td>\n",
       "    </tr>\n",
       "    <tr>\n",
       "      <th>50%</th>\n",
       "      <td>2015.500000</td>\n",
       "      <td>1.062221e+07</td>\n",
       "      <td>1.579529e+06</td>\n",
       "      <td>3.049919e+06</td>\n",
       "    </tr>\n",
       "    <tr>\n",
       "      <th>75%</th>\n",
       "      <td>2018.250000</td>\n",
       "      <td>1.352910e+07</td>\n",
       "      <td>2.877269e+06</td>\n",
       "      <td>4.140303e+06</td>\n",
       "    </tr>\n",
       "    <tr>\n",
       "      <th>max</th>\n",
       "      <td>2021.000000</td>\n",
       "      <td>1.884459e+07</td>\n",
       "      <td>3.104277e+06</td>\n",
       "      <td>5.361134e+06</td>\n",
       "    </tr>\n",
       "  </tbody>\n",
       "</table>\n",
       "</div>"
      ],
      "text/plain": [
       "               rok        chopin        modlin        gdansk\n",
       "count    12.000000  1.200000e+01  1.200000e+01  1.200000e+01\n",
       "mean   2015.500000  1.150112e+07  1.779112e+06  3.335588e+06\n",
       "std       3.605551  4.082456e+06  1.064899e+06  1.189924e+06\n",
       "min    2010.000000  5.473224e+06  3.445660e+05  1.697406e+06\n",
       "25%    2012.750000  9.158502e+06  8.674935e+05  2.389481e+06\n",
       "50%    2015.500000  1.062221e+07  1.579529e+06  3.049919e+06\n",
       "75%    2018.250000  1.352910e+07  2.877269e+06  4.140303e+06\n",
       "max    2021.000000  1.884459e+07  3.104277e+06  5.361134e+06"
      ]
     },
     "execution_count": 5,
     "metadata": {},
     "output_type": "execute_result"
    }
   ],
   "source": [
    "df_lotniska.describe()"
   ]
  },
  {
   "cell_type": "code",
   "execution_count": 6,
   "id": "ee4c83a1",
   "metadata": {},
   "outputs": [
    {
     "data": {
      "text/html": [
       "<style type=\"text/css\">\n",
       "</style>\n",
       "<table id=\"T_41ed1\">\n",
       "  <thead>\n",
       "    <tr>\n",
       "      <th class=\"blank level0\" >&nbsp;</th>\n",
       "      <th id=\"T_41ed1_level0_col0\" class=\"col_heading level0 col0\" >chopin</th>\n",
       "      <th id=\"T_41ed1_level0_col1\" class=\"col_heading level0 col1\" >modlin</th>\n",
       "      <th id=\"T_41ed1_level0_col2\" class=\"col_heading level0 col2\" >gdansk</th>\n",
       "    </tr>\n",
       "  </thead>\n",
       "  <tbody>\n",
       "    <tr>\n",
       "      <th id=\"T_41ed1_level0_row0\" class=\"row_heading level0 row0\" >0</th>\n",
       "      <td id=\"T_41ed1_row0_col0\" class=\"data row0 col0\" >8,666,552</td>\n",
       "      <td id=\"T_41ed1_row0_col1\" class=\"data row0 col1\" >872,635</td>\n",
       "      <td id=\"T_41ed1_row0_col2\" class=\"data row0 col2\" >2,208,819</td>\n",
       "    </tr>\n",
       "    <tr>\n",
       "      <th id=\"T_41ed1_level0_row1\" class=\"row_heading level0 row1\" >1</th>\n",
       "      <td id=\"T_41ed1_row1_col0\" class=\"data row1 col0\" >9,322,485</td>\n",
       "      <td id=\"T_41ed1_row1_col1\" class=\"data row1 col1\" >679,823</td>\n",
       "      <td id=\"T_41ed1_row1_col2\" class=\"data row1 col2\" >2,449,702</td>\n",
       "    </tr>\n",
       "    <tr>\n",
       "      <th id=\"T_41ed1_level0_row2\" class=\"row_heading level0 row2\" >2</th>\n",
       "      <td id=\"T_41ed1_row2_col0\" class=\"data row2 col0\" >9,567,063</td>\n",
       "      <td id=\"T_41ed1_row2_col1\" class=\"data row2 col1\" >857,481</td>\n",
       "      <td id=\"T_41ed1_row2_col2\" class=\"data row2 col2\" >2,861,774</td>\n",
       "    </tr>\n",
       "    <tr>\n",
       "      <th id=\"T_41ed1_level0_row3\" class=\"row_heading level0 row3\" >3</th>\n",
       "      <td id=\"T_41ed1_row3_col0\" class=\"data row3 col0\" >10,669,879</td>\n",
       "      <td id=\"T_41ed1_row3_col1\" class=\"data row3 col1\" >344,566</td>\n",
       "      <td id=\"T_41ed1_row3_col2\" class=\"data row3 col2\" >2,826,412</td>\n",
       "    </tr>\n",
       "    <tr>\n",
       "      <th id=\"T_41ed1_level0_row4\" class=\"row_heading level0 row4\" >4</th>\n",
       "      <td id=\"T_41ed1_row4_col0\" class=\"data row4 col0\" >10,574,539</td>\n",
       "      <td id=\"T_41ed1_row4_col1\" class=\"data row4 col1\" >1,703,743</td>\n",
       "      <td id=\"T_41ed1_row4_col2\" class=\"data row4 col2\" >3,238,064</td>\n",
       "    </tr>\n",
       "    <tr>\n",
       "      <th id=\"T_41ed1_level0_row5\" class=\"row_heading level0 row5\" >5</th>\n",
       "      <td id=\"T_41ed1_row5_col0\" class=\"data row5 col0\" >11,186,688</td>\n",
       "      <td id=\"T_41ed1_row5_col1\" class=\"data row5 col1\" >2,589,286</td>\n",
       "      <td id=\"T_41ed1_row5_col2\" class=\"data row5 col2\" >3,687,885</td>\n",
       "    </tr>\n",
       "    <tr>\n",
       "      <th id=\"T_41ed1_level0_row6\" class=\"row_heading level0 row6\" >6</th>\n",
       "      <td id=\"T_41ed1_row6_col0\" class=\"data row6 col0\" >12,795,356</td>\n",
       "      <td id=\"T_41ed1_row6_col1\" class=\"data row6 col1\" >2,859,191</td>\n",
       "      <td id=\"T_41ed1_row6_col2\" class=\"data row6 col2\" >3,986,410</td>\n",
       "    </tr>\n",
       "    <tr>\n",
       "      <th id=\"T_41ed1_level0_row7\" class=\"row_heading level0 row7\" >7</th>\n",
       "      <td id=\"T_41ed1_row7_col0\" class=\"data row7 col0\" >15,730,330</td>\n",
       "      <td id=\"T_41ed1_row7_col1\" class=\"data row7 col1\" >2,931,503</td>\n",
       "      <td id=\"T_41ed1_row7_col2\" class=\"data row7 col2\" >4,601,982</td>\n",
       "    </tr>\n",
       "    <tr>\n",
       "      <th id=\"T_41ed1_level0_row8\" class=\"row_heading level0 row8\" >8</th>\n",
       "      <td id=\"T_41ed1_row8_col0\" class=\"data row8 col0\" >17,737,231</td>\n",
       "      <td id=\"T_41ed1_row8_col1\" class=\"data row8 col1\" >3,080,699</td>\n",
       "      <td id=\"T_41ed1_row8_col2\" class=\"data row8 col2\" >4,966,949</td>\n",
       "    </tr>\n",
       "    <tr>\n",
       "      <th id=\"T_41ed1_level0_row9\" class=\"row_heading level0 row9\" >9</th>\n",
       "      <td id=\"T_41ed1_row9_col0\" class=\"data row9 col0\" >18,844,591</td>\n",
       "      <td id=\"T_41ed1_row9_col1\" class=\"data row9 col1\" >3,104,277</td>\n",
       "      <td id=\"T_41ed1_row9_col2\" class=\"data row9 col2\" >5,361,134</td>\n",
       "    </tr>\n",
       "    <tr>\n",
       "      <th id=\"T_41ed1_level0_row10\" class=\"row_heading level0 row10\" >10</th>\n",
       "      <td id=\"T_41ed1_row10_col0\" class=\"data row10 col0\" >5,473,224</td>\n",
       "      <td id=\"T_41ed1_row10_col1\" class=\"data row10 col1\" >870,831</td>\n",
       "      <td id=\"T_41ed1_row10_col2\" class=\"data row10 col2\" >1,697,406</td>\n",
       "    </tr>\n",
       "    <tr>\n",
       "      <th id=\"T_41ed1_level0_row11\" class=\"row_heading level0 row11\" >11</th>\n",
       "      <td id=\"T_41ed1_row11_col0\" class=\"data row11 col0\" >7,445,468</td>\n",
       "      <td id=\"T_41ed1_row11_col1\" class=\"data row11 col1\" >1,455,315</td>\n",
       "      <td id=\"T_41ed1_row11_col2\" class=\"data row11 col2\" >2,140,522</td>\n",
       "    </tr>\n",
       "  </tbody>\n",
       "</table>\n"
      ],
      "text/plain": [
       "<pandas.io.formats.style.Styler at 0x1c86ea34e80>"
      ]
     },
     "execution_count": 6,
     "metadata": {},
     "output_type": "execute_result"
    }
   ],
   "source": [
    "# formatowanie danych, dodanie przecinków do dużych liczb\n",
    "df_lotniska[[\"chopin\", \"modlin\"\n",
    "            ,\"gdansk\"]].style.format(\"{:,.0f}\")"
   ]
  },
  {
   "cell_type": "markdown",
   "id": "59c2cffe",
   "metadata": {},
   "source": [
    "## Wykresy na podstawie danych z csv"
   ]
  },
  {
   "cell_type": "code",
   "execution_count": null,
   "id": "9411d9a2",
   "metadata": {
    "scrolled": true
   },
   "outputs": [],
   "source": [
    "import matplotlib.pyplot as plt"
   ]
  },
  {
   "cell_type": "code",
   "execution_count": 11,
   "id": "6e8e3a38",
   "metadata": {},
   "outputs": [
    {
     "data": {
      "text/plain": [
       "[0, 1, 2, 3, 4, 5, 6, 7, 8, 9, 10, 11]"
      ]
     },
     "execution_count": 11,
     "metadata": {},
     "output_type": "execute_result"
    }
   ],
   "source": [
    "# X - liczba wierszy\n",
    "X = [x for x in range(12)]\n",
    "X"
   ]
  },
  {
   "cell_type": "code",
   "execution_count": 15,
   "id": "552bcd1c",
   "metadata": {},
   "outputs": [
    {
     "data": {
      "text/plain": [
       "list"
      ]
     },
     "execution_count": 15,
     "metadata": {},
     "output_type": "execute_result"
    }
   ],
   "source": [
    "df_lotniska['chopin']\n",
    "type(df_lotniska['chopin']) # seria danych\n",
    "df_lotniska['chopin'].to_list()\n",
    "type(df_lotniska['chopin'].to_list()) # lista"
   ]
  },
  {
   "cell_type": "code",
   "execution_count": 17,
   "id": "0147d9fc",
   "metadata": {},
   "outputs": [
    {
     "data": {
      "text/plain": [
       "[8666552,\n",
       " 9322485,\n",
       " 9567063,\n",
       " 10669879,\n",
       " 10574539,\n",
       " 11186688,\n",
       " 12795356,\n",
       " 15730330,\n",
       " 17737231,\n",
       " 18844591,\n",
       " 5473224,\n",
       " 7445468]"
      ]
     },
     "execution_count": 17,
     "metadata": {},
     "output_type": "execute_result"
    }
   ],
   "source": [
    "# wyciąganie danych z pliku\n",
    "# Y jako kolumna\n",
    "Y_chopin = df_lotniska['chopin'].to_list()\n",
    "Y_chopin"
   ]
  },
  {
   "cell_type": "code",
   "execution_count": 18,
   "id": "5dc17904",
   "metadata": {},
   "outputs": [
    {
     "data": {
      "text/plain": [
       "<BarContainer object of 12 artists>"
      ]
     },
     "execution_count": 18,
     "metadata": {},
     "output_type": "execute_result"
    },
    {
     "data": {
      "image/png": "[encoded data removed]",
      "text/plain": [
       "<Figure size 640x480 with 1 Axes>"
      ]
     },
     "metadata": {},
     "output_type": "display_data"
    }
   ],
   "source": [
    "plt.bar(X, Y_chopin)"
   ]
  },
  {
   "cell_type": "code",
   "execution_count": null,
   "id": "0dab9b9c",
   "metadata": {},
   "outputs": [],
   "source": []
  }
 ],
 "metadata": {
  "kernelspec": {
   "display_name": "Python 3 (ipykernel)",
   "language": "python",
   "name": "python3"
  },
  "language_info": {
   "codemirror_mode": {
    "name": "ipython",
    "version": 3
   },
   "file_extension": ".py",
   "mimetype": "text/x-python",
   "name": "python",
   "nbconvert_exporter": "python",
   "pygments_lexer": "ipython3",
   "version": "3.9.13"
  }
 },
 "nbformat": 4,
 "nbformat_minor": 5
}
