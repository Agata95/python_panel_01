{
 "cells": [
  {
   "cell_type": "code",
   "execution_count": 1,
   "id": "314428f5",
   "metadata": {},
   "outputs": [
    {
     "name": "stdout",
     "output_type": "stream",
     "text": [
      "Witam\n"
     ]
    }
   ],
   "source": [
    "print(\"Witam\")"
   ]
  },
  {
   "cell_type": "code",
   "execution_count": 2,
   "id": "6a877fca",
   "metadata": {},
   "outputs": [
    {
     "name": "stdout",
     "output_type": "stream",
     "text": [
      "shift + ENTER wykonuje daną komórkę\n"
     ]
    }
   ],
   "source": [
    "print(\"shift + ENTER wykonuje daną komórkę\")\n",
    "# komentarz\n",
    "x = 10.4"
   ]
  },
  {
   "cell_type": "code",
   "execution_count": 3,
   "id": "62e93134",
   "metadata": {},
   "outputs": [
    {
     "data": {
      "text/plain": [
       "10.4"
      ]
     },
     "execution_count": 3,
     "metadata": {},
     "output_type": "execute_result"
    }
   ],
   "source": [
    "x"
   ]
  },
  {
   "cell_type": "code",
   "execution_count": null,
   "id": "cbc99921",
   "metadata": {},
   "outputs": [],
   "source": []
  }
 ],
 "metadata": {
  "kernelspec": {
   "display_name": "Python 3 (ipykernel)",
   "language": "python",
   "name": "python3"
  },
  "language_info": {
   "codemirror_mode": {
    "name": "ipython",
    "version": 3
   },
   "file_extension": ".py",
   "mimetype": "text/x-python",
   "name": "python",
   "nbconvert_exporter": "python",
   "pygments_lexer": "ipython3",
   "version": "3.9.13"
  }
 },
 "nbformat": 4,
 "nbformat_minor": 5
}
