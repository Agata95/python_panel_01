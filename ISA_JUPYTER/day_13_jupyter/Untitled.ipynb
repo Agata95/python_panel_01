{
 "cells": [
  {
   "cell_type": "markdown",
   "id": "b78a70c0",
   "metadata": {},
   "source": [
    "# Wykres kursu waluty w okresie dat"
   ]
  },
  {
   "cell_type": "code",
   "execution_count": 2,
   "id": "cb722f81",
   "metadata": {},
   "outputs": [],
   "source": [
    "# tu zmieniamy zakres dat i kod waluty\n",
    "data_od = \"2022-11-01\"\n",
    "data_do = \"2022-11-11\"\n",
    "waluta = \"CHF\" #\"USD\" / \"EUR\""
   ]
  },
  {
   "cell_type": "code",
   "execution_count": 4,
   "id": "fc4f08fd",
   "metadata": {},
   "outputs": [
    {
     "name": "stdout",
     "output_type": "stream",
     "text": [
      "Waluta CHF wynosi: [{'no': '212/A/NBP/2022', 'effectiveDate': '2022-11-02', 'mid': 4.7656}, {'no': '213/A/NBP/2022', 'effectiveDate': '2022-11-03', 'mid': 4.7697}, {'no': '214/A/NBP/2022', 'effectiveDate': '2022-11-04', 'mid': 4.7523}, {'no': '215/A/NBP/2022', 'effectiveDate': '2022-11-07', 'mid': 4.731}, {'no': '216/A/NBP/2022', 'effectiveDate': '2022-11-08', 'mid': 4.7417}, {'no': '217/A/NBP/2022', 'effectiveDate': '2022-11-09', 'mid': 4.7467}, {'no': '218/A/NBP/2022', 'effectiveDate': '2022-11-10', 'mid': 4.7905}]\n"
     ]
    }
   ],
   "source": [
    "import requests\n",
    "\n",
    "api_link = f\"http://api.nbp.pl/api/exchangerates/rates/A/{waluta}/{data_od}/{data_do}/\"\n",
    "\n",
    "r_api = requests.get(api_link)\n",
    "odczyt = r_api.json()\n",
    "odczyt_lista = odczyt['rates']\n",
    "\n",
    "# oczekiwany wynik:\n",
    "print(f\"Waluta {waluta} wynosi: {odczyt_lista}\")"
   ]
  },
  {
   "cell_type": "code",
   "execution_count": null,
   "id": "ddb64bbf",
   "metadata": {},
   "outputs": [],
   "source": []
  }
 ],
 "metadata": {
  "kernelspec": {
   "display_name": "Python 3 (ipykernel)",
   "language": "python",
   "name": "python3"
  },
  "language_info": {
   "codemirror_mode": {
    "name": "ipython",
    "version": 3
   },
   "file_extension": ".py",
   "mimetype": "text/x-python",
   "name": "python",
   "nbconvert_exporter": "python",
   "pygments_lexer": "ipython3",
   "version": "3.9.13"
  }
 },
 "nbformat": 4,
 "nbformat_minor": 5
}
