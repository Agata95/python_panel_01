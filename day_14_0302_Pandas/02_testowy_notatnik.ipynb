{
 "cells": [
  {
   "cell_type": "code",
   "execution_count": 1,
   "id": "0c811ca7",
   "metadata": {},
   "outputs": [
    {
     "name": "stdout",
     "output_type": "stream",
     "text": [
      "Witam\n"
     ]
    }
   ],
   "source": [
    "print(\"Witam\")"
   ]
  },
  {
   "cell_type": "code",
   "execution_count": 2,
   "id": "b74d49b4",
   "metadata": {},
   "outputs": [
    {
     "name": "stdout",
     "output_type": "stream",
     "text": [
      "shift+ENTER wykonuje daną komórkę\n",
      "A tylko ENTER pozwala wpisać kolejny wiersz. I jeszcze coś.\n"
     ]
    }
   ],
   "source": [
    "print(\"shift+ENTER wykonuje daną komórkę\")\n",
    "print(\"A tylko ENTER pozwala wpisać kolejny wiersz. I jeszcze coś.\")\n",
    "# tu komentarz\n",
    "x = 10.4"
   ]
  },
  {
   "cell_type": "code",
   "execution_count": 3,
   "id": "7ce6dbb0",
   "metadata": {},
   "outputs": [
    {
     "data": {
      "text/plain": [
       "10.4"
      ]
     },
     "execution_count": 3,
     "metadata": {},
     "output_type": "execute_result"
    }
   ],
   "source": [
    "x"
   ]
  },
  {
   "cell_type": "code",
   "execution_count": null,
   "id": "31ecf4d5",
   "metadata": {},
   "outputs": [],
   "source": []
  }
 ],
 "metadata": {
  "kernelspec": {
   "display_name": "Python 3 (ipykernel)",
   "language": "python",
   "name": "python3"
  },
  "language_info": {
   "codemirror_mode": {
    "name": "ipython",
    "version": 3
   },
   "file_extension": ".py",
   "mimetype": "text/x-python",
   "name": "python",
   "nbconvert_exporter": "python",
   "pygments_lexer": "ipython3",
   "version": "3.9.13"
  }
 },
 "nbformat": 4,
 "nbformat_minor": 5
}
